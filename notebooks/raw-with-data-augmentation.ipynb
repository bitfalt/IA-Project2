{
 "cells": [
  {
   "cell_type": "markdown",
   "metadata": {},
   "source": [
    "# Dataset Preparation"
   ]
  },
  {
   "cell_type": "markdown",
   "metadata": {},
   "source": [
    "# Imports"
   ]
  },
  {
   "cell_type": "code",
   "execution_count": 1,
   "metadata": {},
   "outputs": [],
   "source": [
    "# Import libraries\n",
    "import numpy as np \n",
    "import pandas as pd\n",
    "import matplotlib.pyplot as plt\n",
    "import torch\n",
    "from torch.utils.data import Dataset, random_split, DataLoader\n",
    "from torch.optim.lr_scheduler import ReduceLROnPlateau\n",
    "from torchvision.transforms import Resize, InterpolationMode\n",
    "import torchaudio\n",
    "from torchsummary import summary\n",
    "from torchmetrics import Accuracy, Precision, Recall, F1Score\n",
    "from torchaudio.transforms import MelSpectrogram, FrequencyMasking\n",
    "import librosa\n",
    "import wandb\n",
    "import cv2\n",
    "from tqdm import tqdm\n",
    "from pathlib import Path\n",
    "import os\n",
    "from os import listdir, scandir"
   ]
  },
  {
   "cell_type": "markdown",
   "metadata": {},
   "source": [
    "# Helper functions"
   ]
  },
  {
   "cell_type": "code",
   "execution_count": 3,
   "metadata": {},
   "outputs": [],
   "source": [
    "def plot_spectogram(specgram, title=None, ylabel='freq_bin'):\n",
    "    _, ax = plt.subplots(1, 1, figsize=(12, 6))\n",
    "    ax.set_title(title)\n",
    "    ax.set_ylabel(ylabel)\n",
    "    ax.imshow(librosa.power_to_db(specgram), origin='lower', aspect='auto')\n",
    "\n",
    "def plot_history(history, net_name):\n",
    "    x_ticks = range(1, len(history['train']['loss']) + 1)\n",
    "    for item in history['train'].keys():\n",
    "        plt.figure(figsize=(12, 4))\n",
    "        for prefix, color in zip(['train', 'val'], ['r', 'b']):\n",
    "            plt.plot(x_ticks, history[prefix][item], c=color, alpha=0.75, linestyle='--',\n",
    "                     label=prefix)\n",
    "        plt.title('{} {}'.format(net_name, item))\n",
    "        plt.xlabel('Epoch')\n",
    "        plt.xticks(x_ticks)\n",
    "        plt.ylabel(item)\n",
    "        plt.grid()\n",
    "        plt.legend()\n",
    "        plt.show()\n",
    "\n",
    "def plot_metric_values(metric_values, net_name):\n",
    "    for item in metric_values:\n",
    "        fig, ax = plt.subplots(figsize=(12, 4))\n",
    "        x = range(metric_values[item].shape[0])\n",
    "        mean = metric_values[item].mean()\n",
    "        bars = ax.bar(x, metric_values[item])\n",
    "        \n",
    "        ax.axhline(mean, color='r', linestyle=':')\n",
    "        for bar in bars:\n",
    "            height = bar.get_height()\n",
    "            \n",
    "            ax.text(bar.get_x() + bar.get_width() / 2, height, '{:.2}'.format(height),\n",
    "                    ha='center', va='bottom')\n",
    "        ax.set_xlabel('Class')\n",
    "        ax.set_xticks(x)\n",
    "        ax.set_title('{} {} on test'.format(net_name, item))\n",
    "        plt.show()"
   ]
  },
  {
   "cell_type": "markdown",
   "metadata": {},
   "source": [
    "# Start preparing dataset"
   ]
  },
  {
   "cell_type": "code",
   "execution_count": 4,
   "metadata": {},
   "outputs": [
    {
     "data": {
      "text/html": [
       "<div>\n",
       "<style scoped>\n",
       "    .dataframe tbody tr th:only-of-type {\n",
       "        vertical-align: middle;\n",
       "    }\n",
       "\n",
       "    .dataframe tbody tr th {\n",
       "        vertical-align: top;\n",
       "    }\n",
       "\n",
       "    .dataframe thead th {\n",
       "        text-align: right;\n",
       "    }\n",
       "</style>\n",
       "<table border=\"1\" class=\"dataframe\">\n",
       "  <thead>\n",
       "    <tr style=\"text-align: right;\">\n",
       "      <th></th>\n",
       "      <th>path_to_audio</th>\n",
       "      <th>class</th>\n",
       "    </tr>\n",
       "  </thead>\n",
       "  <tbody>\n",
       "    <tr>\n",
       "      <th>0</th>\n",
       "      <td>../data/59/7_59_29.wav</td>\n",
       "      <td>7</td>\n",
       "    </tr>\n",
       "    <tr>\n",
       "      <th>1</th>\n",
       "      <td>../data/59/7_59_15.wav</td>\n",
       "      <td>7</td>\n",
       "    </tr>\n",
       "    <tr>\n",
       "      <th>2</th>\n",
       "      <td>../data/59/2_59_1.wav</td>\n",
       "      <td>2</td>\n",
       "    </tr>\n",
       "    <tr>\n",
       "      <th>3</th>\n",
       "      <td>../data/59/3_59_1.wav</td>\n",
       "      <td>3</td>\n",
       "    </tr>\n",
       "    <tr>\n",
       "      <th>4</th>\n",
       "      <td>../data/59/9_59_22.wav</td>\n",
       "      <td>9</td>\n",
       "    </tr>\n",
       "    <tr>\n",
       "      <th>...</th>\n",
       "      <td>...</td>\n",
       "      <td>...</td>\n",
       "    </tr>\n",
       "    <tr>\n",
       "      <th>29995</th>\n",
       "      <td>../data/25/5_25_27.wav</td>\n",
       "      <td>5</td>\n",
       "    </tr>\n",
       "    <tr>\n",
       "      <th>29996</th>\n",
       "      <td>../data/25/5_25_33.wav</td>\n",
       "      <td>5</td>\n",
       "    </tr>\n",
       "    <tr>\n",
       "      <th>29997</th>\n",
       "      <td>../data/25/7_25_2.wav</td>\n",
       "      <td>7</td>\n",
       "    </tr>\n",
       "    <tr>\n",
       "      <th>29998</th>\n",
       "      <td>../data/25/6_25_2.wav</td>\n",
       "      <td>6</td>\n",
       "    </tr>\n",
       "    <tr>\n",
       "      <th>29999</th>\n",
       "      <td>../data/25/6_25_13.wav</td>\n",
       "      <td>6</td>\n",
       "    </tr>\n",
       "  </tbody>\n",
       "</table>\n",
       "<p>30000 rows × 2 columns</p>\n",
       "</div>"
      ],
      "text/plain": [
       "                path_to_audio  class\n",
       "0      ../data/59/7_59_29.wav      7\n",
       "1      ../data/59/7_59_15.wav      7\n",
       "2       ../data/59/2_59_1.wav      2\n",
       "3       ../data/59/3_59_1.wav      3\n",
       "4      ../data/59/9_59_22.wav      9\n",
       "...                       ...    ...\n",
       "29995  ../data/25/5_25_27.wav      5\n",
       "29996  ../data/25/5_25_33.wav      5\n",
       "29997   ../data/25/7_25_2.wav      7\n",
       "29998   ../data/25/6_25_2.wav      6\n",
       "29999  ../data/25/6_25_13.wav      6\n",
       "\n",
       "[30000 rows x 2 columns]"
      ]
     },
     "execution_count": 4,
     "metadata": {},
     "output_type": "execute_result"
    }
   ],
   "source": [
    "workdir_path = Path('../data')\n",
    "sample_rate = 48000\n",
    "\n",
    "data = []\n",
    "with scandir(workdir_path) as entries:\n",
    "    for entry in entries:\n",
    "        if entry.is_dir():\n",
    "            path_to_dir = workdir_path / entry.name\n",
    "\n",
    "            for filename in listdir(path_to_dir):\n",
    "                path_to_audio = path_to_dir / filename\n",
    "\n",
    "                data.append((path_to_audio, int(filename[0])))\n",
    "\n",
    "audio_df = pd.DataFrame(data, columns=['path_to_audio', 'class'])\n",
    "\n",
    "audio_df"
   ]
  },
  {
   "cell_type": "code",
   "execution_count": 5,
   "metadata": {},
   "outputs": [
    {
     "name": "stdout",
     "output_type": "stream",
     "text": [
      "There are 10 classes in the dataset\n"
     ]
    }
   ],
   "source": [
    "n_classes = audio_df['class'].max() + 1\n",
    "print(f'There are {n_classes} classes in the dataset')"
   ]
  },
  {
   "cell_type": "markdown",
   "metadata": {},
   "source": [
    "# Create dataset"
   ]
  },
  {
   "cell_type": "code",
   "execution_count": 6,
   "metadata": {},
   "outputs": [],
   "source": [
    "n_channels = 1\n",
    "n_mels = 24\n",
    "time = 48\n",
    "\n",
    "transform = torch.nn.Sequential(\n",
    "    MelSpectrogram(sample_rate, n_fft=1024, n_mels=n_mels),\n",
    "    Resize(size=(n_mels, time), interpolation=InterpolationMode.NEAREST)\n",
    ")"
   ]
  },
  {
   "cell_type": "code",
   "execution_count": 7,
   "metadata": {},
   "outputs": [
    {
     "name": "stdout",
     "output_type": "stream",
     "text": [
      "sample_masking.shape: torch.Size([1, 24, 48]), sample_masking.class: 7\n"
     ]
    },
    {
     "data": {
      "image/png": "[encoded data removed]",
      "text/plain": [
       "<Figure size 1200x600 with 1 Axes>"
      ]
     },
     "metadata": {},
     "output_type": "display_data"
    }
   ],
   "source": [
    "class RawAudioDatasetFreqMasking(Dataset):\n",
    "    def __init__(self, df, transform):\n",
    "        self.df = df\n",
    "        self.transform = transform\n",
    "        self.freq_mask = FrequencyMasking(freq_mask_param=7)\n",
    "\n",
    "    def __getitem__(self, i):\n",
    "        path_to_audio, class_label = self.df.iloc[i]\n",
    "        waveform, _ = torchaudio.load(path_to_audio, normalize=True)\n",
    "\n",
    "        specgram = self.transform(waveform)\n",
    "        specgram = self.freq_mask(specgram)\n",
    "\n",
    "        return specgram, class_label, path_to_audio\n",
    "\n",
    "    def __len__(self):\n",
    "        return self.df.shape[0]\n",
    "\n",
    "ds = RawAudioDatasetFreqMasking(audio_df, transform)\n",
    "sample_masking = ds[0]\n",
    "plot_spectogram(sample_masking[0][0], 'Mel Spectogram')\n",
    "print(f'sample_masking.shape: {sample_masking[0].shape}, sample_masking.class: {sample_masking[1]}')\n",
    "plt.savefig('sample_masking.png')"
   ]
  },
  {
   "cell_type": "markdown",
   "metadata": {},
   "source": [
    "# Save dataset"
   ]
  },
  {
   "cell_type": "code",
   "execution_count": 9,
   "metadata": {},
   "outputs": [
    {
     "name": "stdout",
     "output_type": "stream",
     "text": [
      "Saving processed dataset to /Users/bitfalt/Developer/IA-Project2/notebooks/RawWithDataAugmentation\n",
      "Total items to process: 30000\n"
     ]
    },
    {
     "name": "stderr",
     "output_type": "stream",
     "text": [
      "Processing and Saving: 100%|██████████| 30000/30000 [01:15<00:00, 399.27it/s]"
     ]
    },
    {
     "name": "stdout",
     "output_type": "stream",
     "text": [
      "\n",
      "Dataset saving complete.\n"
     ]
    },
    {
     "name": "stderr",
     "output_type": "stream",
     "text": [
      "\n"
     ]
    }
   ],
   "source": [
    "def save_processed_dataset(dataset: RawAudioDatasetFreqMasking, output_base_dir: str):\n",
    "    \"\"\"\n",
    "    Processes each item in the dataset and saves the resulting spectrogram tensor\n",
    "    to files organized by class label and original filename.\n",
    "\n",
    "    Args:\n",
    "        dataset: An instance of RawAudioDataset.\n",
    "        output_base_dir: The base directory where the processed data will be saved.\n",
    "                         E.g., 'RawFreqMasking'.\n",
    "    \"\"\"\n",
    "    os.makedirs(output_base_dir, exist_ok=True)\n",
    "\n",
    "    print(f\"Saving processed dataset to {os.path.abspath(output_base_dir)}\")\n",
    "    print(f\"Total items to process: {len(dataset)}\")\n",
    "\n",
    "    # Iterate through the dataset using tqdm for a progress bar\n",
    "    # Accessing items via index calls the __getitem__ method\n",
    "    for i in tqdm(range(len(dataset)), desc=\"Processing and Saving\"):\n",
    "        item = dataset[i]\n",
    "\n",
    "        # Check if item is valid (in case of errors handled in __getitem__)\n",
    "        if item[0] is None:\n",
    "            continue # Skip this item if there was an error\n",
    "\n",
    "        specgram, class_label, original_path = item\n",
    "\n",
    "        # Create the class subdirectory\n",
    "        # Use str(class_label) to handle potential numeric labels\n",
    "        class_output_dir = os.path.join(output_base_dir, str(class_label))\n",
    "        os.makedirs(class_output_dir, exist_ok=True)\n",
    "\n",
    "        # Generate the output filename based on the original filename\n",
    "        original_filename = os.path.basename(original_path) # e.g., '0_59_29.wav'\n",
    "        filename_base, _ = os.path.splitext(original_filename) # e.g., '0_59_29'\n",
    "        output_filename = f\"{filename_base}.pt\" # Save as a PyTorch tensor file\n",
    "\n",
    "        # Create the full path to save the file\n",
    "        save_path = os.path.join(class_output_dir, output_filename)\n",
    "\n",
    "        # Save the spectrogram tensor\n",
    "        try:\n",
    "            torch.save(specgram, save_path)\n",
    "        except Exception as e:\n",
    "             print(f\"\\nError saving {save_path}: {e}\") # Print newline to not mess with tqdm bar\n",
    "\n",
    "\n",
    "    print(\"\\nDataset saving complete.\")\n",
    "\n",
    "save_processed_dataset(ds, 'RawWithDataAugmentation')"
   ]
  },
  {
   "cell_type": "code",
   "execution_count": null,
   "metadata": {},
   "outputs": [],
   "source": [
    "batch_size = 64\n",
    "\n",
    "train_ds, val_ds, test_ds = random_split(ds, [0.7, 0.15, 0.15])\n",
    "\n",
    "train_dl = DataLoader(train_ds, batch_size, shuffle=True)\n",
    "val_dl = DataLoader(val_ds, batch_size)\n",
    "test_dl = DataLoader(test_ds, batch_size)"
   ]
  },
  {
   "cell_type": "markdown",
   "metadata": {},
   "source": [
    "# Model A (LeNet5)"
   ]
  },
  {
   "cell_type": "code",
   "execution_count": null,
   "metadata": {},
   "outputs": [],
   "source": [
    "class LeNet5(torch.nn.Sequential):\n",
    "    def __init__(self, n_channels, n_classes):\n",
    "        super().__init__(\n",
    "            torch.nn.Conv2d(in_channels=n_channels, out_channels=6, kernel_size=5),\n",
    "            torch.nn.AvgPool2d(kernel_size=2),\n",
    "            torch.nn.Conv2d(in_channels=6, out_channels=16, kernel_size=5),\n",
    "            torch.nn.AvgPool2d(kernel_size=2),\n",
    "            torch.nn.Flatten(),\n",
    "            torch.nn.Linear(in_features=432, out_features=120),\n",
    "            torch.nn.Linear(in_features=120, out_features=84),\n",
    "            torch.nn.Linear(in_features=84, out_features=n_classes)\n",
    "        )"
   ]
  },
  {
   "cell_type": "code",
   "execution_count": null,
   "metadata": {},
   "outputs": [],
   "source": [
    "net = LeNet5(n_channels=n_channels, n_classes=n_classes)\n",
    "\n",
    "device = 'cuda' if torch.cuda.is_available() else 'cpu'\n",
    "net.to(device)\n",
    "\n",
    "summary(net, (n_channels, n_mels, time))"
   ]
  },
  {
   "cell_type": "code",
   "execution_count": null,
   "metadata": {},
   "outputs": [],
   "source": [
    "run = wandb.init(\n",
    "    entity=\"bitfalt-itcr\",\n",
    "    project=\"test-wandb\",\n",
    "    config={\n",
    "        \"learning_rate\": 0.0001,\n",
    "    },\n",
    "    tags=[\"Model A\", \"LeNet5\", \"MNIST Audio\", \"Raw\", \"With Data Augmentation\"],\n",
    "    notes=\"Run with test and val metrics\"\n",
    ")"
   ]
  },
  {
   "cell_type": "code",
   "execution_count": null,
   "metadata": {},
   "outputs": [],
   "source": [
    "wandb.watch(net)"
   ]
  },
  {
   "cell_type": "code",
   "execution_count": null,
   "metadata": {},
   "outputs": [],
   "source": [
    "def eval(net, eval_dl, prefix, criterion, metrics, device):\n",
    "    eval_loss = torch.tensor(0.0).to(device)\n",
    "    eval_metric_values = {\n",
    "        metric: torch.zeros(metrics[metric].num_classes if metrics[metric].average is None\n",
    "                            else 1).to(device) for metric in metrics\n",
    "    }\n",
    "    \n",
    "    net.to(device)\n",
    "    net.eval()\n",
    "    with torch.no_grad():\n",
    "        for X, y in eval_dl:\n",
    "            X = X.to(device)\n",
    "            y = y.to(device)\n",
    "            \n",
    "            preds = net(X)\n",
    "            loss = criterion(preds, y)\n",
    "            \n",
    "            eval_loss += loss.detach().cpu() * eval_dl.batch_size\n",
    "            for metric in metrics:\n",
    "                eval_metric_values[metric] += metrics[metric](preds, y) * \\\n",
    "                    eval_dl.batch_size\n",
    "    \n",
    "    eval_loss /= len(eval_dl.dataset)\n",
    "    for metric in metrics:\n",
    "        eval_metric_values[metric] /= len(eval_dl.dataset)\n",
    "    \n",
    "    print('{}_loss: {:.3f}'.format(prefix, eval_loss), end='')\n",
    "    for metric in metrics:\n",
    "        print(', {}_{}: {:.3f}'.format(prefix, metric, eval_metric_values[metric].mean()),\n",
    "              end='')\n",
    "        \n",
    "        if prefix == 'test':\n",
    "            lossKey = f\"{prefix} Loss\"\n",
    "            metricKey = f\"{prefix} {metric}\"\n",
    "            wandb.log({\n",
    "                lossKey: eval_loss,\n",
    "                metricKey: eval_metric_values[metric].mean(),\n",
    "            })\n",
    "    \n",
    "    return eval_loss, eval_metric_values"
   ]
  },
  {
   "cell_type": "code",
   "execution_count": null,
   "metadata": {},
   "outputs": [],
   "source": [
    "def train(net, train_dl, val_dl, n_epochs, criterion, metrics, device, lr):\n",
    "    optimizer = torch.optim.Adam(net.parameters(), lr=lr)\n",
    "    scheduler = ReduceLROnPlateau(optimizer, mode='min', factor=0.5, patience=2)\n",
    "    history = {\n",
    "        'train': {'loss': []} | {metric: [] for metric in metrics},\n",
    "        'val': {'loss': []} | {metric: [] for metric in metrics}\n",
    "    }\n",
    "    \n",
    "    net.to(device)\n",
    "    for epoch in range(n_epochs):\n",
    "        train_loss = torch.tensor(0.0).to(device)\n",
    "        train_metric_values = {\n",
    "            metric: torch.tensor(0.0).to(device) for metric in metrics\n",
    "        }\n",
    "        \n",
    "        net.train()\n",
    "        for X, y in tqdm(train_dl, desc='Epoch {}/{}'.format(epoch + 1, n_epochs),\n",
    "                         total=len(train_dl)):\n",
    "            X = X.to(device)\n",
    "            y = y.to(device)\n",
    "            \n",
    "            preds = net(X)\n",
    "            loss = criterion(preds, y)\n",
    "\n",
    "            optimizer.zero_grad()\n",
    "            loss.backward()\n",
    "            optimizer.step()\n",
    "            \n",
    "            with torch.no_grad():\n",
    "                train_loss += loss.detach().cpu() * train_dl.batch_size\n",
    "                for metric in metrics:\n",
    "                    train_metric_values[metric] += train_dl.batch_size * \\\n",
    "                        metrics[metric](preds, y)\n",
    "        \n",
    "        train_loss /= len(train_dl.dataset)\n",
    "        for metric in metrics:\n",
    "            train_metric_values[metric] /= len(train_dl.dataset)\n",
    "        \n",
    "        print('train_loss: {:.3f}'.format(train_loss), end=', ')\n",
    "        for metric in metrics:\n",
    "            print('train_{}: {:.3f}'.format(metric, train_metric_values[metric]),\n",
    "                  end=', ')\n",
    "\n",
    "            wandb.log({\n",
    "                \"Epoch\": epoch,\n",
    "                \"Train Loss\": train_loss,\n",
    "                \"Train \" + metric: train_metric_values[metric],\n",
    "            })\n",
    "        \n",
    "        history['train']['loss'].append(train_loss.cpu().detach().numpy().item())\n",
    "        for metric in metrics:\n",
    "            history['train'][metric].append(train_metric_values[metric].cpu().detach() \\\n",
    "                                            .numpy().item())\n",
    "            \n",
    "        val_loss, val_metric_values = eval(net, val_dl, prefix='val', criterion=criterion,\n",
    "                                           metrics=metrics, device=device)\n",
    "        \n",
    "        scheduler.step(val_loss)\n",
    "        \n",
    "        history['val']['loss'].append(val_loss.cpu().detach().numpy().item())\n",
    "        for metric in metrics:\n",
    "            history['val'][metric].append(val_metric_values[metric].cpu().detach() \\\n",
    "                                          .numpy().item())\n",
    "            wandb.log({\n",
    "                \"Epoch\": epoch,\n",
    "                \"Val Loss\": val_loss,\n",
    "                \"Val \" + metric: val_metric_values[metric],\n",
    "            })\n",
    "            \n",
    "    return history"
   ]
  },
  {
   "cell_type": "code",
   "execution_count": null,
   "metadata": {},
   "outputs": [],
   "source": [
    "criterion = torch.nn.CrossEntropyLoss()\n",
    "\n",
    "train_metrics = {\n",
    "    'accuracy': Accuracy(task='multiclass', num_classes=int(n_classes),\n",
    "                         average='macro').to(device),\n",
    "    'precision': Precision(task='multiclass', num_classes=int(n_classes),\n",
    "                           average='macro').to(device),\n",
    "    'recall': Recall(task='multiclass', num_classes=int(n_classes),\n",
    "                     average='macro').to(device),\n",
    "    'f1-score': F1Score(task='multiclass', num_classes=int(n_classes),\n",
    "                        average='macro').to(device)\n",
    "}"
   ]
  },
  {
   "cell_type": "code",
   "execution_count": null,
   "metadata": {},
   "outputs": [],
   "source": [
    "history = train(net, train_dl, val_dl, n_epochs=15, criterion=criterion,\n",
    "                metrics=train_metrics, device=device, lr=0.0001)"
   ]
  },
  {
   "cell_type": "markdown",
   "metadata": {},
   "source": [
    "# Plot History"
   ]
  },
  {
   "cell_type": "code",
   "execution_count": null,
   "metadata": {},
   "outputs": [],
   "source": [
    "plot_history(history, net_name='LeNet5')"
   ]
  },
  {
   "cell_type": "markdown",
   "metadata": {},
   "source": [
    "# Evaluate neural network"
   ]
  },
  {
   "cell_type": "code",
   "execution_count": null,
   "metadata": {},
   "outputs": [],
   "source": [
    "test_metrics = {\n",
    "    'accuracy': Accuracy(task='multiclass', num_classes=int(n_classes),\n",
    "                         average=None).to(device),\n",
    "    'precision': Precision(task='multiclass', num_classes=int(n_classes),\n",
    "                           average=None).to(device),\n",
    "    'recall': Recall(task='multiclass', num_classes=int(n_classes),\n",
    "                     average=None).to(device),\n",
    "    'f1-score': F1Score(task='multiclass', num_classes=int(n_classes),\n",
    "                        average=None).to(device)\n",
    "}"
   ]
  },
  {
   "cell_type": "code",
   "execution_count": null,
   "metadata": {},
   "outputs": [],
   "source": [
    "_, test_metric_values = eval(net, test_dl, prefix='test', criterion=criterion,\n",
    "                             metrics=test_metrics, device=device)"
   ]
  },
  {
   "cell_type": "code",
   "execution_count": null,
   "metadata": {},
   "outputs": [],
   "source": [
    "plot_metric_values(test_metric_values, net_name='LeNet5')"
   ]
  }
 ],
 "metadata": {
  "kernelspec": {
   "display_name": "venv",
   "language": "python",
   "name": "python3"
  },
  "language_info": {
   "codemirror_mode": {
    "name": "ipython",
    "version": 3
   },
   "file_extension": ".py",
   "mimetype": "text/x-python",
   "name": "python",
   "nbconvert_exporter": "python",
   "pygments_lexer": "ipython3",
   "version": "3.12.7"
  }
 },
 "nbformat": 4,
 "nbformat_minor": 2
}
