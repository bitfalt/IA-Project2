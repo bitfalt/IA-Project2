{
 "cells": [
  {
   "cell_type": "markdown",
   "metadata": {},
   "source": [
    "# Dataset Preparation"
   ]
  },
  {
   "cell_type": "markdown",
   "metadata": {},
   "source": [
    "# Imports"
   ]
  },
  {
   "cell_type": "code",
   "execution_count": 1,
   "metadata": {},
   "outputs": [],
   "source": [
    "# Import libraries\n",
    "import numpy as np \n",
    "import pandas as pd\n",
    "import matplotlib.pyplot as plt\n",
    "import torch\n",
    "from torch.utils.data import Dataset, random_split, DataLoader\n",
    "from torchvision.transforms import Resize, InterpolationMode\n",
    "import torchaudio\n",
    "from torchaudio.transforms import MelSpectrogram, FrequencyMasking\n",
    "import librosa\n",
    "import cv2\n",
    "from pathlib import Path\n",
    "from os import listdir, scandir"
   ]
  },
  {
   "cell_type": "markdown",
   "metadata": {},
   "source": [
    "# Helper functions"
   ]
  },
  {
   "cell_type": "code",
   "execution_count": 2,
   "metadata": {},
   "outputs": [],
   "source": [
    "def plot_spectogram(specgram, title=None, ylabel='freq_bin'):\n",
    "    _, ax = plt.subplots(1, 1, figsize=(12, 6))\n",
    "    ax.set_title(title)\n",
    "    ax.set_ylabel(ylabel)\n",
    "    ax.imshow(librosa.power_to_db(specgram), origin='lower', aspect='auto')"
   ]
  },
  {
   "cell_type": "markdown",
   "metadata": {},
   "source": [
    "# Start preparing dataset"
   ]
  },
  {
   "cell_type": "code",
   "execution_count": 3,
   "metadata": {},
   "outputs": [
    {
     "data": {
      "text/html": [
       "<div>\n",
       "<style scoped>\n",
       "    .dataframe tbody tr th:only-of-type {\n",
       "        vertical-align: middle;\n",
       "    }\n",
       "\n",
       "    .dataframe tbody tr th {\n",
       "        vertical-align: top;\n",
       "    }\n",
       "\n",
       "    .dataframe thead th {\n",
       "        text-align: right;\n",
       "    }\n",
       "</style>\n",
       "<table border=\"1\" class=\"dataframe\">\n",
       "  <thead>\n",
       "    <tr style=\"text-align: right;\">\n",
       "      <th></th>\n",
       "      <th>path_to_audio</th>\n",
       "      <th>class</th>\n",
       "    </tr>\n",
       "  </thead>\n",
       "  <tbody>\n",
       "    <tr>\n",
       "      <th>0</th>\n",
       "      <td>../data/59/7_59_29.wav</td>\n",
       "      <td>7</td>\n",
       "    </tr>\n",
       "    <tr>\n",
       "      <th>1</th>\n",
       "      <td>../data/59/7_59_15.wav</td>\n",
       "      <td>7</td>\n",
       "    </tr>\n",
       "    <tr>\n",
       "      <th>2</th>\n",
       "      <td>../data/59/2_59_1.wav</td>\n",
       "      <td>2</td>\n",
       "    </tr>\n",
       "    <tr>\n",
       "      <th>3</th>\n",
       "      <td>../data/59/3_59_1.wav</td>\n",
       "      <td>3</td>\n",
       "    </tr>\n",
       "    <tr>\n",
       "      <th>4</th>\n",
       "      <td>../data/59/9_59_22.wav</td>\n",
       "      <td>9</td>\n",
       "    </tr>\n",
       "    <tr>\n",
       "      <th>...</th>\n",
       "      <td>...</td>\n",
       "      <td>...</td>\n",
       "    </tr>\n",
       "    <tr>\n",
       "      <th>29995</th>\n",
       "      <td>../data/25/5_25_27.wav</td>\n",
       "      <td>5</td>\n",
       "    </tr>\n",
       "    <tr>\n",
       "      <th>29996</th>\n",
       "      <td>../data/25/5_25_33.wav</td>\n",
       "      <td>5</td>\n",
       "    </tr>\n",
       "    <tr>\n",
       "      <th>29997</th>\n",
       "      <td>../data/25/7_25_2.wav</td>\n",
       "      <td>7</td>\n",
       "    </tr>\n",
       "    <tr>\n",
       "      <th>29998</th>\n",
       "      <td>../data/25/6_25_2.wav</td>\n",
       "      <td>6</td>\n",
       "    </tr>\n",
       "    <tr>\n",
       "      <th>29999</th>\n",
       "      <td>../data/25/6_25_13.wav</td>\n",
       "      <td>6</td>\n",
       "    </tr>\n",
       "  </tbody>\n",
       "</table>\n",
       "<p>30000 rows × 2 columns</p>\n",
       "</div>"
      ],
      "text/plain": [
       "                path_to_audio  class\n",
       "0      ../data/59/7_59_29.wav      7\n",
       "1      ../data/59/7_59_15.wav      7\n",
       "2       ../data/59/2_59_1.wav      2\n",
       "3       ../data/59/3_59_1.wav      3\n",
       "4      ../data/59/9_59_22.wav      9\n",
       "...                       ...    ...\n",
       "29995  ../data/25/5_25_27.wav      5\n",
       "29996  ../data/25/5_25_33.wav      5\n",
       "29997   ../data/25/7_25_2.wav      7\n",
       "29998   ../data/25/6_25_2.wav      6\n",
       "29999  ../data/25/6_25_13.wav      6\n",
       "\n",
       "[30000 rows x 2 columns]"
      ]
     },
     "execution_count": 3,
     "metadata": {},
     "output_type": "execute_result"
    }
   ],
   "source": [
    "workdir_path = Path('../data')\n",
    "sample_rate = 48000\n",
    "\n",
    "data = []\n",
    "with scandir(workdir_path) as entries:\n",
    "    for entry in entries:\n",
    "        if entry.is_dir():\n",
    "            path_to_dir = workdir_path / entry.name\n",
    "\n",
    "            for filename in listdir(path_to_dir):\n",
    "                path_to_audio = path_to_dir / filename\n",
    "\n",
    "                data.append((path_to_audio, int(filename[0])))\n",
    "\n",
    "audio_df = pd.DataFrame(data, columns=['path_to_audio', 'class'])\n",
    "\n",
    "audio_df"
   ]
  },
  {
   "cell_type": "code",
   "execution_count": 4,
   "metadata": {},
   "outputs": [
    {
     "name": "stdout",
     "output_type": "stream",
     "text": [
      "There are 10 classes in the dataset\n"
     ]
    }
   ],
   "source": [
    "n_classes = audio_df['class'].max() + 1\n",
    "print(f'There are {n_classes} classes in the dataset')"
   ]
  },
  {
   "cell_type": "markdown",
   "metadata": {},
   "source": [
    "# Create dataset"
   ]
  },
  {
   "cell_type": "code",
   "execution_count": 5,
   "metadata": {},
   "outputs": [],
   "source": [
    "n_channels = 1\n",
    "n_mels = 24\n",
    "time = 48\n",
    "\n",
    "transform = torch.nn.Sequential(\n",
    "    MelSpectrogram(sample_rate, n_fft=1024, n_mels=n_mels),\n",
    "    Resize(size=(n_mels, time), interpolation=InterpolationMode.NEAREST)\n",
    ")"
   ]
  },
  {
   "cell_type": "code",
   "execution_count": 6,
   "metadata": {},
   "outputs": [
    {
     "name": "stdout",
     "output_type": "stream",
     "text": [
      "../data/59/7_59_29.wav\n",
      "sample_bilateral_masking.shape: torch.Size([1, 24, 48]), sample_bilateral_masking.class: 7\n"
     ]
    },
    {
     "data": {
      "image/png": "[encoded data removed]",
      "text/plain": [
       "<Figure size 1200x600 with 1 Axes>"
      ]
     },
     "metadata": {},
     "output_type": "display_data"
    }
   ],
   "source": [
    "class BilateralAudioDatasetFreqMasking(Dataset):\n",
    "    def __init__(self, df, transform):\n",
    "        self.df = df\n",
    "        self.transform = transform\n",
    "        self.d = 5\n",
    "        self.sigmaColor = 10\n",
    "        self.sigmaSpace = 10\n",
    "        self.freq_mask = FrequencyMasking(freq_mask_param=7)\n",
    "\n",
    "    def __getitem__(self, i):\n",
    "        path_to_audio, class_label = self.df.iloc[i]\n",
    "        print(path_to_audio)\n",
    "        waveform, _ = torchaudio.load(path_to_audio, normalize=True)\n",
    "\n",
    "        specgram = self.transform(waveform)\n",
    "        specgram = self.apply_filter(specgram)\n",
    "        specgram = self.freq_mask(specgram)\n",
    "\n",
    "\n",
    "        return specgram, class_label\n",
    "\n",
    "    def __len__(self):\n",
    "        return self.df.shape[0]\n",
    "\n",
    "    def apply_filter(self, specgram):\n",
    "        filtered_channels = []\n",
    "        for channel in range(specgram.shape[0]):\n",
    "            specgram_channel_np = specgram[channel].numpy()\n",
    "            filtered_channel_np = cv2.bilateralFilter(\n",
    "                specgram_channel_np.astype(np.float32),\n",
    "                self.d,\n",
    "                self.sigmaColor,\n",
    "                self.sigmaSpace,\n",
    "            )\n",
    "            filtered_channels.append(torch.from_numpy(filtered_channel_np))\n",
    "            filtered_specgram = torch.stack(filtered_channels)\n",
    "            \n",
    "        return filtered_specgram\n",
    "\n",
    "ds = BilateralAudioDatasetFreqMasking(audio_df, transform)\n",
    "sample_bilateral_masking = ds[0]\n",
    "plot_spectogram(sample_bilateral_masking[0][0], 'Mel Spectogram')\n",
    "print(f'sample_bilateral_masking.shape: {sample_bilateral_masking[0].shape}, sample_bilateral_masking.class: {sample_bilateral_masking[1]}')\n",
    "plt.savefig('sample_bilateral_masking.png')\n"
   ]
  }
 ],
 "metadata": {
  "kernelspec": {
   "display_name": "venv",
   "language": "python",
   "name": "python3"
  },
  "language_info": {
   "codemirror_mode": {
    "name": "ipython",
    "version": 3
   },
   "file_extension": ".py",
   "mimetype": "text/x-python",
   "name": "python",
   "nbconvert_exporter": "python",
   "pygments_lexer": "ipython3",
   "version": "3.12.7"
  }
 },
 "nbformat": 4,
 "nbformat_minor": 2
}
